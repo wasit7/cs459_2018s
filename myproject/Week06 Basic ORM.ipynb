{
 "cells": [
  {
   "cell_type": "markdown",
   "metadata": {},
   "source": [
    "$ source env/bin/activate\n",
    "$ pip install django-extensions\n",
    "$ pip install jupyter\n",
    "\n",
    "INSTALLED_APPS = [\n",
    "...\n",
    "'django_extensions',\n",
    "]\n",
    "\n",
    "$ python manage.py shell_plus --notebook"
   ]
  },
  {
   "cell_type": "code",
   "execution_count": 2,
   "metadata": {},
   "outputs": [
    {
     "data": {
      "text/plain": [
       "<QuerySet [<Item: 1_Banana>, <Item: 2_Papaya>, <Item: 3_Orange>, <Item: 5_media_test>, <Item: 6_test2>]>"
      ]
     },
     "execution_count": 2,
     "metadata": {},
     "output_type": "execute_result"
    }
   ],
   "source": [
    "Item.objects.all()"
   ]
  },
  {
   "cell_type": "markdown",
   "metadata": {},
   "source": [
    "# get()"
   ]
  },
  {
   "cell_type": "code",
   "execution_count": 12,
   "metadata": {},
   "outputs": [
    {
     "data": {
      "text/plain": [
       "myapp.models.Item"
      ]
     },
     "execution_count": 12,
     "metadata": {},
     "output_type": "execute_result"
    }
   ],
   "source": [
    "x=Item.objects.get(pk=2)\n",
    "type(x)"
   ]
  },
  {
   "cell_type": "code",
   "execution_count": 9,
   "metadata": {},
   "outputs": [
    {
     "data": {
      "text/plain": [
       "<ImageFieldFile: product_WmxWxF2.png>"
      ]
     },
     "execution_count": 9,
     "metadata": {},
     "output_type": "execute_result"
    }
   ],
   "source": [
    "x.image"
   ]
  },
  {
   "cell_type": "code",
   "execution_count": 19,
   "metadata": {},
   "outputs": [
    {
     "data": {
      "text/plain": [
       "Decimal('100.00')"
      ]
     },
     "execution_count": 19,
     "metadata": {},
     "output_type": "execute_result"
    }
   ],
   "source": [
    "x.price"
   ]
  },
  {
   "cell_type": "markdown",
   "metadata": {},
   "source": [
    "# all()"
   ]
  },
  {
   "cell_type": "code",
   "execution_count": 13,
   "metadata": {},
   "outputs": [
    {
     "data": {
      "text/plain": [
       "django.db.models.query.QuerySet"
      ]
     },
     "execution_count": 13,
     "metadata": {},
     "output_type": "execute_result"
    }
   ],
   "source": [
    "y=Item.objects.all()\n",
    "type(y)"
   ]
  },
  {
   "cell_type": "code",
   "execution_count": 16,
   "metadata": {},
   "outputs": [
    {
     "name": "stdout",
     "output_type": "stream",
     "text": [
      "SELECT \"myapp_item\".\"id\", \"myapp_item\".\"name\", \"myapp_item\".\"description\", \"myapp_item\".\"price\", \"myapp_item\".\"expire\", \"myapp_item\".\"image\" FROM \"myapp_item\"\n"
     ]
    }
   ],
   "source": [
    "print( y.query )"
   ]
  },
  {
   "cell_type": "code",
   "execution_count": 21,
   "metadata": {},
   "outputs": [
    {
     "name": "stdout",
     "output_type": "stream",
     "text": [
      "Banana 50.00\n",
      "Papaya 100.00\n",
      "Orange 10.00\n",
      "media_test 10.00\n",
      "test2 20.00\n"
     ]
    }
   ],
   "source": [
    "for i in y:\n",
    "    print(i.name, i.price)"
   ]
  },
  {
   "cell_type": "code",
   "execution_count": 26,
   "metadata": {},
   "outputs": [
    {
     "name": "stdout",
     "output_type": "stream",
     "text": [
      "select * from myapp_item\n",
      "Banana 50.00\n",
      "Papaya 100.00\n",
      "Orange 10.00\n",
      "media_test 10.00\n",
      "test2 20.00\n"
     ]
    }
   ],
   "source": [
    "y=Item.objects.raw('select * from myapp_item')\n",
    "print(y.query)\n",
    "for i in y:\n",
    "    print(i.name, i.price)"
   ]
  },
  {
   "cell_type": "markdown",
   "metadata": {},
   "source": [
    "# filter()"
   ]
  },
  {
   "cell_type": "code",
   "execution_count": null,
   "metadata": {},
   "outputs": [],
   "source": [
    "for i in Item.objects.filter(price=10.0):\n",
    "    print(i.name, i.price)"
   ]
  },
  {
   "cell_type": "code",
   "execution_count": 23,
   "metadata": {},
   "outputs": [
    {
     "name": "stdout",
     "output_type": "stream",
     "text": [
      "SELECT \"myapp_item\".\"id\", \"myapp_item\".\"name\", \"myapp_item\".\"description\", \"myapp_item\".\"price\", \"myapp_item\".\"expire\", \"myapp_item\".\"image\" FROM \"myapp_item\" WHERE \"myapp_item\".\"price\" = 10\n"
     ]
    }
   ],
   "source": [
    "y=Item.objects.filter(price=10.0)\n",
    "print(y.query)"
   ]
  },
  {
   "cell_type": "code",
   "execution_count": 27,
   "metadata": {},
   "outputs": [
    {
     "name": "stdout",
     "output_type": "stream",
     "text": [
      "SELECT \"myapp_item\".\"id\", \"myapp_item\".\"name\", \"myapp_item\".\"description\", \"myapp_item\".\"price\", \"myapp_item\".\"expire\", \"myapp_item\".\"image\" FROM \"myapp_item\" WHERE \"myapp_item\".\"price\" >= 20\n"
     ]
    }
   ],
   "source": [
    "y=Item.objects.filter(price__gte=20.0)\n",
    "print(y.query)"
   ]
  },
  {
   "cell_type": "code",
   "execution_count": 28,
   "metadata": {},
   "outputs": [
    {
     "name": "stdout",
     "output_type": "stream",
     "text": [
      "SELECT \"myapp_item\".\"id\", \"myapp_item\".\"name\", \"myapp_item\".\"description\", \"myapp_item\".\"price\", \"myapp_item\".\"expire\", \"myapp_item\".\"image\" FROM \"myapp_item\" WHERE \"myapp_item\".\"price\" > 20\n"
     ]
    }
   ],
   "source": [
    "y=Item.objects.filter(price__gt=20.0)\n",
    "print(y.query)"
   ]
  },
  {
   "cell_type": "code",
   "execution_count": null,
   "metadata": {},
   "outputs": [],
   "source": []
  }
 ],
 "metadata": {
  "kernelspec": {
   "display_name": "Django Shell-Plus",
   "language": "python",
   "name": "django_extensions"
  },
  "language_info": {
   "codemirror_mode": {
    "name": "ipython",
    "version": 3
   },
   "file_extension": ".py",
   "mimetype": "text/x-python",
   "name": "python",
   "nbconvert_exporter": "python",
   "pygments_lexer": "ipython3",
   "version": "3.6.6"
  }
 },
 "nbformat": 4,
 "nbformat_minor": 2
}
